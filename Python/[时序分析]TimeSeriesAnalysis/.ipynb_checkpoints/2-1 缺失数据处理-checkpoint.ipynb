{
 "cells": [
  {
   "cell_type": "code",
   "execution_count": 2,
   "metadata": {},
   "outputs": [],
   "source": [
    "import pandas as pd\n",
    "import numpy as np\n",
    "import matplotlib.pyplot as plt\n",
    "pd.set_option('max_row',1000)"
   ]
  },
  {
   "cell_type": "code",
   "execution_count": 19,
   "metadata": {},
   "outputs": [
    {
     "data": {
      "text/html": [
       "<div>\n",
       "<style scoped>\n",
       "    .dataframe tbody tr th:only-of-type {\n",
       "        vertical-align: middle;\n",
       "    }\n",
       "\n",
       "    .dataframe tbody tr th {\n",
       "        vertical-align: top;\n",
       "    }\n",
       "\n",
       "    .dataframe thead th {\n",
       "        text-align: right;\n",
       "    }\n",
       "</style>\n",
       "<table border=\"1\" class=\"dataframe\">\n",
       "  <thead>\n",
       "    <tr style=\"text-align: right;\">\n",
       "      <th></th>\n",
       "      <th>LOCATION</th>\n",
       "      <th>INDICATOR</th>\n",
       "      <th>SUBJECT</th>\n",
       "      <th>MEASURE</th>\n",
       "      <th>FREQUENCY</th>\n",
       "      <th>TIME</th>\n",
       "      <th>Value</th>\n",
       "      <th>Flag Codes</th>\n",
       "    </tr>\n",
       "  </thead>\n",
       "  <tbody>\n",
       "    <tr>\n",
       "      <th>0</th>\n",
       "      <td>USA</td>\n",
       "      <td>UNEMPFORECAST</td>\n",
       "      <td>TOT</td>\n",
       "      <td>PC_LF</td>\n",
       "      <td>A</td>\n",
       "      <td>1960</td>\n",
       "      <td>5.561643</td>\n",
       "      <td>NaN</td>\n",
       "    </tr>\n",
       "    <tr>\n",
       "      <th>1</th>\n",
       "      <td>USA</td>\n",
       "      <td>UNEMPFORECAST</td>\n",
       "      <td>TOT</td>\n",
       "      <td>PC_LF</td>\n",
       "      <td>A</td>\n",
       "      <td>1961</td>\n",
       "      <td>6.679450</td>\n",
       "      <td>NaN</td>\n",
       "    </tr>\n",
       "    <tr>\n",
       "      <th>2</th>\n",
       "      <td>USA</td>\n",
       "      <td>UNEMPFORECAST</td>\n",
       "      <td>TOT</td>\n",
       "      <td>PC_LF</td>\n",
       "      <td>A</td>\n",
       "      <td>1962</td>\n",
       "      <td>5.547695</td>\n",
       "      <td>NaN</td>\n",
       "    </tr>\n",
       "    <tr>\n",
       "      <th>3</th>\n",
       "      <td>USA</td>\n",
       "      <td>UNEMPFORECAST</td>\n",
       "      <td>TOT</td>\n",
       "      <td>PC_LF</td>\n",
       "      <td>A</td>\n",
       "      <td>1963</td>\n",
       "      <td>5.643426</td>\n",
       "      <td>NaN</td>\n",
       "    </tr>\n",
       "    <tr>\n",
       "      <th>4</th>\n",
       "      <td>USA</td>\n",
       "      <td>UNEMPFORECAST</td>\n",
       "      <td>TOT</td>\n",
       "      <td>PC_LF</td>\n",
       "      <td>A</td>\n",
       "      <td>1964</td>\n",
       "      <td>5.166907</td>\n",
       "      <td>NaN</td>\n",
       "    </tr>\n",
       "  </tbody>\n",
       "</table>\n",
       "</div>"
      ],
      "text/plain": [
       "  LOCATION      INDICATOR SUBJECT MEASURE FREQUENCY  TIME     Value  \\\n",
       "0      USA  UNEMPFORECAST     TOT   PC_LF         A  1960  5.561643   \n",
       "1      USA  UNEMPFORECAST     TOT   PC_LF         A  1961  6.679450   \n",
       "2      USA  UNEMPFORECAST     TOT   PC_LF         A  1962  5.547695   \n",
       "3      USA  UNEMPFORECAST     TOT   PC_LF         A  1963  5.643426   \n",
       "4      USA  UNEMPFORECAST     TOT   PC_LF         A  1964  5.166907   \n",
       "\n",
       "   Flag Codes  \n",
       "0         NaN  \n",
       "1         NaN  \n",
       "2         NaN  \n",
       "3         NaN  \n",
       "4         NaN  "
      ]
     },
     "execution_count": 19,
     "metadata": {},
     "output_type": "execute_result"
    }
   ],
   "source": [
    "data = pd.read_csv('data/Mydata.csv')\n",
    "data.head()"
   ]
  },
  {
   "cell_type": "code",
   "execution_count": 38,
   "metadata": {},
   "outputs": [],
   "source": [
    "dd = data.loc[:,['TIME','Value']]\n",
    "# 单取所需两列\n",
    "# loc用法\n",
    "dd.columns=['year','rate']\n",
    "dd['missing']=dd['rate']\n",
    "mis_index = dd.sample(frac=0.1).index\n",
    "dd.loc[mis_index,'missing']=None\n",
    "# 新增缺值列，并随机确定缺值"
   ]
  },
  {
   "cell_type": "code",
   "execution_count": 39,
   "metadata": {},
   "outputs": [
    {
     "data": {
      "text/plain": [
       "<matplotlib.legend.Legend at 0x24bb7181400>"
      ]
     },
     "execution_count": 39,
     "metadata": {},
     "output_type": "execute_result"
    },
    {
     "data": {
      "image/png": "[encoded data removed]",
      "text/plain": [
       "<Figure size 432x288 with 1 Axes>"
      ]
     },
     "metadata": {
      "needs_background": "light"
     },
     "output_type": "display_data"
    }
   ],
   "source": [
    "dd['f_fill']=dd['missing']\n",
    "dd['f_fill'].ffill(inplace=True)\n",
    "# forward_fill 前一时间节点数据填充缺值\n",
    "\n",
    "plt.scatter(dd.year,dd.rate,s=10)\n",
    "plt.plot(dd.year,dd.rate,label='real')\n",
    "\n",
    "plt.scatter(dd[~dd.index.isin(mis_index)].year,dd[~dd.index.isin(mis_index)].f_fill,s=10,c='r')\n",
    "# 圆点画非插值点\n",
    "plt.scatter(dd[dd.index.isin(mis_index)].year,dd[dd.index.isin(mis_index)].f_fill,s=50,c='r',marker='v')\n",
    "# 插值点用特殊符号\n",
    "plt.plot(dd.year,dd.f_fill,label='forward fill')\n",
    "# 作插值图\n",
    "plt.legend()"
   ]
  },
  {
   "cell_type": "code",
   "execution_count": 40,
   "metadata": {},
   "outputs": [
    {
     "data": {
      "text/html": [
       "<div>\n",
       "<style scoped>\n",
       "    .dataframe tbody tr th:only-of-type {\n",
       "        vertical-align: middle;\n",
       "    }\n",
       "\n",
       "    .dataframe tbody tr th {\n",
       "        vertical-align: top;\n",
       "    }\n",
       "\n",
       "    .dataframe thead th {\n",
       "        text-align: right;\n",
       "    }\n",
       "</style>\n",
       "<table border=\"1\" class=\"dataframe\">\n",
       "  <thead>\n",
       "    <tr style=\"text-align: right;\">\n",
       "      <th></th>\n",
       "      <th>year</th>\n",
       "      <th>rate</th>\n",
       "      <th>missing</th>\n",
       "      <th>f_fill</th>\n",
       "      <th>moveavg</th>\n",
       "    </tr>\n",
       "  </thead>\n",
       "  <tbody>\n",
       "    <tr>\n",
       "      <th>0</th>\n",
       "      <td>1960</td>\n",
       "      <td>5.561643</td>\n",
       "      <td>5.561643</td>\n",
       "      <td>5.561643</td>\n",
       "      <td>5.561643</td>\n",
       "    </tr>\n",
       "    <tr>\n",
       "      <th>1</th>\n",
       "      <td>1961</td>\n",
       "      <td>6.679450</td>\n",
       "      <td>6.679450</td>\n",
       "      <td>6.679450</td>\n",
       "      <td>6.679450</td>\n",
       "    </tr>\n",
       "    <tr>\n",
       "      <th>2</th>\n",
       "      <td>1962</td>\n",
       "      <td>5.547695</td>\n",
       "      <td>NaN</td>\n",
       "      <td>6.679450</td>\n",
       "      <td>6.120547</td>\n",
       "    </tr>\n",
       "    <tr>\n",
       "      <th>3</th>\n",
       "      <td>1963</td>\n",
       "      <td>5.643426</td>\n",
       "      <td>5.643426</td>\n",
       "      <td>5.643426</td>\n",
       "      <td>5.643426</td>\n",
       "    </tr>\n",
       "    <tr>\n",
       "      <th>4</th>\n",
       "      <td>1964</td>\n",
       "      <td>5.166907</td>\n",
       "      <td>5.166907</td>\n",
       "      <td>5.166907</td>\n",
       "      <td>5.166907</td>\n",
       "    </tr>\n",
       "  </tbody>\n",
       "</table>\n",
       "</div>"
      ],
      "text/plain": [
       "   year      rate   missing    f_fill   moveavg\n",
       "0  1960  5.561643  5.561643  5.561643  5.561643\n",
       "1  1961  6.679450  6.679450  6.679450  6.679450\n",
       "2  1962  5.547695       NaN  6.679450  6.120547\n",
       "3  1963  5.643426  5.643426  5.643426  5.643426\n",
       "4  1964  5.166907  5.166907  5.166907  5.166907"
      ]
     },
     "execution_count": 40,
     "metadata": {},
     "output_type": "execute_result"
    }
   ],
   "source": [
    "dd['moveavg']=np.where(dd['missing'].isnull(),\n",
    "                       dd['missing'].shift(1).rolling(3,min_periods=1).mean(),\n",
    "                       dd['missing'])\n",
    "# 移动平均值填充（前x项平均数填充）\n",
    "# .shift 将数组移位 行号1 -> 2 ; .rolling 作移动计算 \n",
    "# eg. arr = [100,200,300]  \n",
    "# arr.rolling(3).sum() --> [100,300,600]  0+0+100,0+100+200,100+200+300\n",
    "# min_period 参数: 指定最小元素数.  \n",
    "# =1:不够三个时，只要满足 >最小数目1 即可\n",
    "dd.head()"
   ]
  },
  {
   "cell_type": "code",
   "execution_count": 41,
   "metadata": {},
   "outputs": [
    {
     "data": {
      "text/html": [
       "<div>\n",
       "<style scoped>\n",
       "    .dataframe tbody tr th:only-of-type {\n",
       "        vertical-align: middle;\n",
       "    }\n",
       "\n",
       "    .dataframe tbody tr th {\n",
       "        vertical-align: top;\n",
       "    }\n",
       "\n",
       "    .dataframe thead th {\n",
       "        text-align: right;\n",
       "    }\n",
       "</style>\n",
       "<table border=\"1\" class=\"dataframe\">\n",
       "  <thead>\n",
       "    <tr style=\"text-align: right;\">\n",
       "      <th></th>\n",
       "      <th>year</th>\n",
       "      <th>rate</th>\n",
       "      <th>missing</th>\n",
       "      <th>f_fill</th>\n",
       "      <th>moveavg</th>\n",
       "      <th>inter_lin</th>\n",
       "      <th>inter_poly</th>\n",
       "    </tr>\n",
       "  </thead>\n",
       "  <tbody>\n",
       "    <tr>\n",
       "      <th>0</th>\n",
       "      <td>1960</td>\n",
       "      <td>5.561643</td>\n",
       "      <td>5.561643</td>\n",
       "      <td>5.561643</td>\n",
       "      <td>5.561643</td>\n",
       "      <td>5.561643</td>\n",
       "      <td>5.561643</td>\n",
       "    </tr>\n",
       "    <tr>\n",
       "      <th>1</th>\n",
       "      <td>1961</td>\n",
       "      <td>6.679450</td>\n",
       "      <td>6.679450</td>\n",
       "      <td>6.679450</td>\n",
       "      <td>6.679450</td>\n",
       "      <td>6.679450</td>\n",
       "      <td>6.679450</td>\n",
       "    </tr>\n",
       "    <tr>\n",
       "      <th>2</th>\n",
       "      <td>1962</td>\n",
       "      <td>5.547695</td>\n",
       "      <td>NaN</td>\n",
       "      <td>6.679450</td>\n",
       "      <td>6.120547</td>\n",
       "      <td>6.161438</td>\n",
       "      <td>6.374684</td>\n",
       "    </tr>\n",
       "    <tr>\n",
       "      <th>3</th>\n",
       "      <td>1963</td>\n",
       "      <td>5.643426</td>\n",
       "      <td>5.643426</td>\n",
       "      <td>5.643426</td>\n",
       "      <td>5.643426</td>\n",
       "      <td>5.643426</td>\n",
       "      <td>5.643426</td>\n",
       "    </tr>\n",
       "    <tr>\n",
       "      <th>4</th>\n",
       "      <td>1964</td>\n",
       "      <td>5.166907</td>\n",
       "      <td>5.166907</td>\n",
       "      <td>5.166907</td>\n",
       "      <td>5.166907</td>\n",
       "      <td>5.166907</td>\n",
       "      <td>5.166907</td>\n",
       "    </tr>\n",
       "  </tbody>\n",
       "</table>\n",
       "</div>"
      ],
      "text/plain": [
       "   year      rate   missing    f_fill   moveavg  inter_lin  inter_poly\n",
       "0  1960  5.561643  5.561643  5.561643  5.561643   5.561643    5.561643\n",
       "1  1961  6.679450  6.679450  6.679450  6.679450   6.679450    6.679450\n",
       "2  1962  5.547695       NaN  6.679450  6.120547   6.161438    6.374684\n",
       "3  1963  5.643426  5.643426  5.643426  5.643426   5.643426    5.643426\n",
       "4  1964  5.166907  5.166907  5.166907  5.166907   5.166907    5.166907"
      ]
     },
     "execution_count": 41,
     "metadata": {},
     "output_type": "execute_result"
    }
   ],
   "source": [
    "dd['inter_lin']=dd['missing'].interpolate(method='linear')\n",
    "dd['inter_poly']=dd['missing'].interpolate(method='polynomial',order=3)\n",
    "# 线性/多项式 插值 order:指数\n",
    "dd.head()"
   ]
  },
  {
   "cell_type": "code",
   "execution_count": 42,
   "metadata": {},
   "outputs": [
    {
     "data": {
      "text/plain": [
       "<matplotlib.legend.Legend at 0x24bb76f7fd0>"
      ]
     },
     "execution_count": 42,
     "metadata": {},
     "output_type": "execute_result"
    },
    {
     "data": {
      "image/png": "[encoded data removed]",
      "text/plain": [
       "<Figure size 432x288 with 1 Axes>"
      ]
     },
     "metadata": {
      "needs_background": "light"
     },
     "output_type": "display_data"
    }
   ],
   "source": [
    "plt.plot(dd.year,dd.rate,label='real')\n",
    "plt.plot(dd.year,dd.inter_lin,label='linear interpolatation',c='r',linestyle='--')\n",
    "plt.plot(dd.year,dd.inter_poly,label='polynomial interpolatation',c='g',linestyle='--')\n",
    "plt.legend()\n",
    "# 作图"
   ]
  },
  {
   "cell_type": "code",
   "execution_count": null,
   "metadata": {},
   "outputs": [],
   "source": []
  }
 ],
 "metadata": {
  "kernelspec": {
   "display_name": "Python 3",
   "language": "python",
   "name": "python3"
  },
  "language_info": {
   "codemirror_mode": {
    "name": "ipython",
    "version": 3
   },
   "file_extension": ".py",
   "mimetype": "text/x-python",
   "name": "python",
   "nbconvert_exporter": "python",
   "pygments_lexer": "ipython3",
   "version": "3.7.0"
  }
 },
 "nbformat": 4,
 "nbformat_minor": 2
}
